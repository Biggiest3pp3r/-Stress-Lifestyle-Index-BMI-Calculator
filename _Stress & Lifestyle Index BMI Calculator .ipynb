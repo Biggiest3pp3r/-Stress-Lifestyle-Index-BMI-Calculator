{
 "cells": [
  {
   "cell_type": "code",
   "execution_count": null,
   "id": "0e625c6c-1bc2-41f1-9a20-bc8e49253644",
   "metadata": {},
   "outputs": [],
   "source": []
  },
  {
   "cell_type": "code",
   "execution_count": null,
   "id": "9f32b526-f6a7-45e2-8cb2-b19ee1e7baaf",
   "metadata": {},
   "outputs": [],
   "source": []
  },
  {
   "cell_type": "code",
   "execution_count": null,
   "id": "3493481d-7fd0-4891-b4fc-0c569923551e",
   "metadata": {},
   "outputs": [
    {
     "name": "stdin",
     "output_type": "stream",
     "text": [
      "Enter your name:  shawn\n",
      "Would you like to use metric or imperial units?  imperial\n",
      "Enter your weight in pounds:  264\n"
     ]
    }
   ],
   "source": [
    "def calculate_bmi(weight, height, unit=\"imperial\"):\n",
    "    \"\"\"Calculate BMI based on weight and height.\"\"\"\n",
    "    if unit == \"metric\":\n",
    "        bmi = weight / (height ** 2)\n",
    "    else:\n",
    "        bmi = (weight * 703) / (height * height)\n",
    "    return bmi\n",
    "\n",
    "def lifestyle_index(bmi, stress_level, physical_activity, diet_quality, sleep_quality):\n",
    "    \"\"\"Calculate the Stress & Lifestyle Index based on various factors.\"\"\"\n",
    "    # Normalize input values for a combined index (adjust as necessary)\n",
    "    normalized_stress = (10 - stress_level) / 10  # Inverted scale, lower stress is better\n",
    "    normalized_physical_activity = physical_activity / 10  # Assuming max score of 10\n",
    "    normalized_diet_quality = diet_quality / 10  # Assuming max score of 10\n",
    "    normalized_sleep_quality = sleep_quality / 10  # Assuming max score of 10\n",
    "\n",
    "    # Weighting factors (these can be adjusted based on importance)\n",
    "    bmi_weight = 0.4\n",
    "    stress_weight = 0.3\n",
    "    activity_weight = 0.1\n",
    "    diet_weight = 0.1\n",
    "    sleep_weight = 0.1\n",
    "\n",
    "    # Calculate the Stress & Lifestyle Index\n",
    "    index = (bmi_weight * (bmi / 40)) + (stress_weight * normalized_stress) + \\\n",
    "            (activity_weight * normalized_physical_activity) + \\\n",
    "            (diet_weight * normalized_diet_quality) + \\\n",
    "            (sleep_weight * normalized_sleep_quality)\n",
    "    \n",
    "    return index\n",
    "\n",
    "def main():\n",
    "    \"\"\"Main function to collect user input and display the results.\"\"\"\n",
    "    name = input(\"Enter your name: \")\n",
    "\n",
    "    unit = input(\"Would you like to use metric or imperial units? \").lower()\n",
    "\n",
    "    if unit == \"metric\":\n",
    "        weight = float(input(\"Enter your weight in kilograms: \"))\n",
    "        height = float(input(\"Enter your height in meters: \"))\n",
    "    else:\n",
    "        weight = float(input(\"Enter your weight in pounds: \"))\n",
    "        height = float(input(\"Enter your height in inches: \"))\n",
    "\n",
    "    bmi = calculate_bmi(weight, height, unit)\n",
    "    \n",
    "    # Get additional input for stress and lifestyle\n",
    "    stress_level = int(input(\"On a scale from 1 to 10, how stressed do you feel? (1 = least stressed, 10 = most stressed): \"))\n",
    "    physical_activity = int(input(\"On a scale from 1 to 10, how would you rate your physical activity level? (1 = low, 10 = high): \"))\n",
    "    diet_quality = int(input(\"On a scale from 1 to 10, how would you rate your diet quality? (1 = poor, 10 = excellent): \"))\n",
    "    sleep_quality = int(input(\"On a scale from 1 to 10, how would you rate your sleep quality? (1 = poor, 10 = excellent): \"))\n",
    "\n",
    "    lifestyle_idx = lifestyle_index(bmi, stress_level, physical_activity, diet_quality, sleep_quality)\n",
    "\n",
    "    print(f\"\\n{name}, your BMI is {bmi:.2f}.\")\n",
    "    print(f\"Your Stress & Lifestyle Index is {lifestyle_idx:.2f}.\")\n",
    "\n",
    "    # Feedback based on the index value\n",
    "    if lifestyle_idx > 0.5:\n",
    "        print(\"You're doing well! Keep maintaining a balanced lifestyle.\")\n",
    "    elif lifestyle_idx > 0.75:\n",
    "        print(\"You're on the right track, but consider improving some aspects of your lifestyle.\")\n",
    "    else:\n",
    "        print(\"It seems you may need to make some lifestyle changes. Consider consulting a health professional.\")\n",
    "\n",
    "if __name__ == \"__main__\":\n",
    "    main()\n"
   ]
  },
  {
   "cell_type": "code",
   "execution_count": null,
   "id": "5e583f8b-82ff-4cbf-83d1-c82156ded7f4",
   "metadata": {},
   "outputs": [],
   "source": []
  },
  {
   "cell_type": "code",
   "execution_count": null,
   "id": "d25bba0d-0bef-4ca7-af1b-22a21fea361a",
   "metadata": {},
   "outputs": [],
   "source": []
  },
  {
   "cell_type": "code",
   "execution_count": null,
   "id": "dc58cb87-c9cb-4311-82e4-07372f8a358c",
   "metadata": {},
   "outputs": [],
   "source": []
  },
  {
   "cell_type": "code",
   "execution_count": null,
   "id": "87e8b0e5-c776-430f-a6f4-e5724b57644e",
   "metadata": {},
   "outputs": [],
   "source": []
  },
  {
   "cell_type": "code",
   "execution_count": null,
   "id": "35cf10ff-b913-45c3-9026-d6e6778f54b0",
   "metadata": {},
   "outputs": [],
   "source": []
  },
  {
   "cell_type": "code",
   "execution_count": null,
   "id": "f7b5f690-fc6b-4299-ad3b-a5c41cc6b8e9",
   "metadata": {},
   "outputs": [],
   "source": []
  },
  {
   "cell_type": "code",
   "execution_count": null,
   "id": "3bf68235-4ad5-4cca-99bc-07abef70364f",
   "metadata": {},
   "outputs": [],
   "source": []
  },
  {
   "cell_type": "code",
   "execution_count": null,
   "id": "fc314c51-f60d-4ac8-8091-81908769cffd",
   "metadata": {},
   "outputs": [],
   "source": []
  },
  {
   "cell_type": "code",
   "execution_count": null,
   "id": "5238191c-1082-4002-ad9e-0e330fb17b34",
   "metadata": {},
   "outputs": [],
   "source": []
  },
  {
   "cell_type": "code",
   "execution_count": null,
   "id": "dcaf0388-3b74-49cc-918f-dccca75829d8",
   "metadata": {},
   "outputs": [],
   "source": []
  },
  {
   "cell_type": "code",
   "execution_count": null,
   "id": "b8f5a34c-a036-49d1-9520-a483055d57af",
   "metadata": {},
   "outputs": [],
   "source": []
  },
  {
   "cell_type": "code",
   "execution_count": null,
   "id": "765b57cf-3782-47fb-922a-e290f1cbd016",
   "metadata": {},
   "outputs": [],
   "source": []
  },
  {
   "cell_type": "code",
   "execution_count": null,
   "id": "6a4cdde9-484a-47bd-ae72-360b1fe2762a",
   "metadata": {},
   "outputs": [],
   "source": []
  }
 ],
 "metadata": {
  "kernelspec": {
   "display_name": "Python 3 (ipykernel)",
   "language": "python",
   "name": "python3"
  },
  "language_info": {
   "codemirror_mode": {
    "name": "ipython",
    "version": 3
   },
   "file_extension": ".py",
   "mimetype": "text/x-python",
   "name": "python",
   "nbconvert_exporter": "python",
   "pygments_lexer": "ipython3",
   "version": "3.12.4"
  }
 },
 "nbformat": 4,
 "nbformat_minor": 5
}
